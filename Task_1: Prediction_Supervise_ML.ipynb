{
  "nbformat": 4,
  "nbformat_minor": 0,
  "metadata": {
    "colab": {
      "provenance": [],
      "collapsed_sections": [
        "vIX5ijKccT5a",
        "yl_XYYwqd5H1"
      ],
      "toc_visible": true,
      "authorship_tag": "ABX9TyPBHWI4I9rwD6XvFoU4iXSK",
      "include_colab_link": true
    },
    "kernelspec": {
      "name": "python3",
      "display_name": "Python 3"
    },
    "language_info": {
      "name": "python"
    }
  },
  "cells": [
    {
      "cell_type": "markdown",
      "metadata": {
        "id": "view-in-github",
        "colab_type": "text"
      },
      "source": [
        "<a href=\"https://colab.research.google.com/github/mehadisaki/TSF_GRIP_intern_task_Mehadi/blob/main/Task_1%3A%20Prediction_Supervise_ML.ipynb\" target=\"_parent\"><img src=\"https://colab.research.google.com/assets/colab-badge.svg\" alt=\"Open In Colab\"/></a>"
      ]
    },
    {
      "cell_type": "markdown",
      "source": [
        "#The Sparks Foundation GRIP-Data Science and Business Analytics Intern "
      ],
      "metadata": {
        "id": "1kWcgjscQfxv"
      }
    },
    {
      "cell_type": "markdown",
      "source": [
        "# Task-1: Prediction using Supervise Machine Learning"
      ],
      "metadata": {
        "id": "s-k8_z7ikocH"
      }
    },
    {
      "cell_type": "markdown",
      "source": [
        "> **Mehadi Hassan Saki**\n",
        "\n",
        "\n",
        "> Batch October22\n",
        "\n",
        "\n",
        "\n",
        "\n",
        "\n",
        "\n"
      ],
      "metadata": {
        "id": "2GbphJyYk_RI"
      }
    },
    {
      "cell_type": "markdown",
      "source": [
        "# Library import"
      ],
      "metadata": {
        "id": "w445zogtueog"
      }
    },
    {
      "cell_type": "code",
      "execution_count": null,
      "metadata": {
        "id": "D3Ni-pYz-tJU"
      },
      "outputs": [],
      "source": [
        "import pandas as pd\n",
        "import numpy as np\n",
        "import matplotlib.pyplot as plt\n"
      ]
    },
    {
      "cell_type": "markdown",
      "source": [
        "# Load Data set and Explore\n"
      ],
      "metadata": {
        "id": "zn_KHKdhZTec"
      }
    },
    {
      "cell_type": "markdown",
      "source": [
        "Predict the percentage of student score based on the study hours"
      ],
      "metadata": {
        "id": "jFO73sqCd2BV"
      }
    },
    {
      "cell_type": "code",
      "source": [
        "data_url = \"http://bit.ly/w-data\"\n",
        "data = pd.read_csv(data_url)\n",
        "#data = pd.DataFrame(data)"
      ],
      "metadata": {
        "id": "gHujBEoN_j73"
      },
      "execution_count": null,
      "outputs": []
    },
    {
      "cell_type": "code",
      "source": [
        "data.head()"
      ],
      "metadata": {
        "colab": {
          "base_uri": "https://localhost:8080/",
          "height": 206
        },
        "id": "J-gPTRaQ_7jm",
        "outputId": "195984ee-d41a-4585-db63-858dae869eda"
      },
      "execution_count": null,
      "outputs": [
        {
          "output_type": "execute_result",
          "data": {
            "text/plain": [
              "   Hours  Scores\n",
              "0    2.5      21\n",
              "1    5.1      47\n",
              "2    3.2      27\n",
              "3    8.5      75\n",
              "4    3.5      30"
            ],
            "text/html": [
              "\n",
              "  <div id=\"df-938fe197-24f8-4a62-8cd5-e2f5c6c29395\">\n",
              "    <div class=\"colab-df-container\">\n",
              "      <div>\n",
              "<style scoped>\n",
              "    .dataframe tbody tr th:only-of-type {\n",
              "        vertical-align: middle;\n",
              "    }\n",
              "\n",
              "    .dataframe tbody tr th {\n",
              "        vertical-align: top;\n",
              "    }\n",
              "\n",
              "    .dataframe thead th {\n",
              "        text-align: right;\n",
              "    }\n",
              "</style>\n",
              "<table border=\"1\" class=\"dataframe\">\n",
              "  <thead>\n",
              "    <tr style=\"text-align: right;\">\n",
              "      <th></th>\n",
              "      <th>Hours</th>\n",
              "      <th>Scores</th>\n",
              "    </tr>\n",
              "  </thead>\n",
              "  <tbody>\n",
              "    <tr>\n",
              "      <th>0</th>\n",
              "      <td>2.5</td>\n",
              "      <td>21</td>\n",
              "    </tr>\n",
              "    <tr>\n",
              "      <th>1</th>\n",
              "      <td>5.1</td>\n",
              "      <td>47</td>\n",
              "    </tr>\n",
              "    <tr>\n",
              "      <th>2</th>\n",
              "      <td>3.2</td>\n",
              "      <td>27</td>\n",
              "    </tr>\n",
              "    <tr>\n",
              "      <th>3</th>\n",
              "      <td>8.5</td>\n",
              "      <td>75</td>\n",
              "    </tr>\n",
              "    <tr>\n",
              "      <th>4</th>\n",
              "      <td>3.5</td>\n",
              "      <td>30</td>\n",
              "    </tr>\n",
              "  </tbody>\n",
              "</table>\n",
              "</div>\n",
              "      <button class=\"colab-df-convert\" onclick=\"convertToInteractive('df-938fe197-24f8-4a62-8cd5-e2f5c6c29395')\"\n",
              "              title=\"Convert this dataframe to an interactive table.\"\n",
              "              style=\"display:none;\">\n",
              "        \n",
              "  <svg xmlns=\"http://www.w3.org/2000/svg\" height=\"24px\"viewBox=\"0 0 24 24\"\n",
              "       width=\"24px\">\n",
              "    <path d=\"M0 0h24v24H0V0z\" fill=\"none\"/>\n",
              "    <path d=\"M18.56 5.44l.94 2.06.94-2.06 2.06-.94-2.06-.94-.94-2.06-.94 2.06-2.06.94zm-11 1L8.5 8.5l.94-2.06 2.06-.94-2.06-.94L8.5 2.5l-.94 2.06-2.06.94zm10 10l.94 2.06.94-2.06 2.06-.94-2.06-.94-.94-2.06-.94 2.06-2.06.94z\"/><path d=\"M17.41 7.96l-1.37-1.37c-.4-.4-.92-.59-1.43-.59-.52 0-1.04.2-1.43.59L10.3 9.45l-7.72 7.72c-.78.78-.78 2.05 0 2.83L4 21.41c.39.39.9.59 1.41.59.51 0 1.02-.2 1.41-.59l7.78-7.78 2.81-2.81c.8-.78.8-2.07 0-2.86zM5.41 20L4 18.59l7.72-7.72 1.47 1.35L5.41 20z\"/>\n",
              "  </svg>\n",
              "      </button>\n",
              "      \n",
              "  <style>\n",
              "    .colab-df-container {\n",
              "      display:flex;\n",
              "      flex-wrap:wrap;\n",
              "      gap: 12px;\n",
              "    }\n",
              "\n",
              "    .colab-df-convert {\n",
              "      background-color: #E8F0FE;\n",
              "      border: none;\n",
              "      border-radius: 50%;\n",
              "      cursor: pointer;\n",
              "      display: none;\n",
              "      fill: #1967D2;\n",
              "      height: 32px;\n",
              "      padding: 0 0 0 0;\n",
              "      width: 32px;\n",
              "    }\n",
              "\n",
              "    .colab-df-convert:hover {\n",
              "      background-color: #E2EBFA;\n",
              "      box-shadow: 0px 1px 2px rgba(60, 64, 67, 0.3), 0px 1px 3px 1px rgba(60, 64, 67, 0.15);\n",
              "      fill: #174EA6;\n",
              "    }\n",
              "\n",
              "    [theme=dark] .colab-df-convert {\n",
              "      background-color: #3B4455;\n",
              "      fill: #D2E3FC;\n",
              "    }\n",
              "\n",
              "    [theme=dark] .colab-df-convert:hover {\n",
              "      background-color: #434B5C;\n",
              "      box-shadow: 0px 1px 3px 1px rgba(0, 0, 0, 0.15);\n",
              "      filter: drop-shadow(0px 1px 2px rgba(0, 0, 0, 0.3));\n",
              "      fill: #FFFFFF;\n",
              "    }\n",
              "  </style>\n",
              "\n",
              "      <script>\n",
              "        const buttonEl =\n",
              "          document.querySelector('#df-938fe197-24f8-4a62-8cd5-e2f5c6c29395 button.colab-df-convert');\n",
              "        buttonEl.style.display =\n",
              "          google.colab.kernel.accessAllowed ? 'block' : 'none';\n",
              "\n",
              "        async function convertToInteractive(key) {\n",
              "          const element = document.querySelector('#df-938fe197-24f8-4a62-8cd5-e2f5c6c29395');\n",
              "          const dataTable =\n",
              "            await google.colab.kernel.invokeFunction('convertToInteractive',\n",
              "                                                     [key], {});\n",
              "          if (!dataTable) return;\n",
              "\n",
              "          const docLinkHtml = 'Like what you see? Visit the ' +\n",
              "            '<a target=\"_blank\" href=https://colab.research.google.com/notebooks/data_table.ipynb>data table notebook</a>'\n",
              "            + ' to learn more about interactive tables.';\n",
              "          element.innerHTML = '';\n",
              "          dataTable['output_type'] = 'display_data';\n",
              "          await google.colab.output.renderOutput(dataTable, element);\n",
              "          const docLink = document.createElement('div');\n",
              "          docLink.innerHTML = docLinkHtml;\n",
              "          element.appendChild(docLink);\n",
              "        }\n",
              "      </script>\n",
              "    </div>\n",
              "  </div>\n",
              "  "
            ]
          },
          "metadata": {},
          "execution_count": 4
        }
      ]
    },
    {
      "cell_type": "markdown",
      "source": [
        "Check Data quality"
      ],
      "metadata": {
        "id": "t--8z_VadTIW"
      }
    },
    {
      "cell_type": "code",
      "source": [
        "data.info()"
      ],
      "metadata": {
        "colab": {
          "base_uri": "https://localhost:8080/"
        },
        "id": "meSBF5mGZYSo",
        "outputId": "25926dd6-caae-4f6a-c108-7dc78baf02e1"
      },
      "execution_count": null,
      "outputs": [
        {
          "output_type": "stream",
          "name": "stdout",
          "text": [
            "<class 'pandas.core.frame.DataFrame'>\n",
            "RangeIndex: 25 entries, 0 to 24\n",
            "Data columns (total 2 columns):\n",
            " #   Column  Non-Null Count  Dtype  \n",
            "---  ------  --------------  -----  \n",
            " 0   Hours   25 non-null     float64\n",
            " 1   Scores  25 non-null     int64  \n",
            "dtypes: float64(1), int64(1)\n",
            "memory usage: 528.0 bytes\n"
          ]
        }
      ]
    },
    {
      "cell_type": "code",
      "source": [
        "data.isnull().sum()"
      ],
      "metadata": {
        "colab": {
          "base_uri": "https://localhost:8080/"
        },
        "id": "IsDXRdNFZksW",
        "outputId": "a3d37b58-8693-4a08-a3fc-16afa8e0e4e3"
      },
      "execution_count": null,
      "outputs": [
        {
          "output_type": "execute_result",
          "data": {
            "text/plain": [
              "Hours     0\n",
              "Scores    0\n",
              "dtype: int64"
            ]
          },
          "metadata": {},
          "execution_count": 6
        }
      ]
    },
    {
      "cell_type": "code",
      "source": [
        "plt.scatter(data.Hours,data.Scores,  color=\"Red\")"
      ],
      "metadata": {
        "colab": {
          "base_uri": "https://localhost:8080/",
          "height": 283
        },
        "id": "mqnQBPZ3ABVz",
        "outputId": "0bda08f3-71d4-4686-aae5-b0475e482fd1"
      },
      "execution_count": null,
      "outputs": [
        {
          "output_type": "execute_result",
          "data": {
            "text/plain": [
              "<matplotlib.collections.PathCollection at 0x7f30e89f1750>"
            ]
          },
          "metadata": {},
          "execution_count": 7
        },
        {
          "output_type": "display_data",
          "data": {
            "text/plain": [
              "<Figure size 432x288 with 1 Axes>"
            ],
            "image/png": "[encoded data removed]"
          },
          "metadata": {
            "needs_background": "light"
          }
        }
      ]
    },
    {
      "cell_type": "markdown",
      "source": [
        "Checking correlation score\n"
      ],
      "metadata": {
        "id": "4bD8psJcaWsX"
      }
    },
    {
      "cell_type": "code",
      "source": [
        "data.corr()"
      ],
      "metadata": {
        "id": "nHE7OcTGAJMm",
        "colab": {
          "base_uri": "https://localhost:8080/",
          "height": 112
        },
        "outputId": "6761b59d-a335-42b2-9b77-e98fa45a8923"
      },
      "execution_count": null,
      "outputs": [
        {
          "output_type": "execute_result",
          "data": {
            "text/plain": [
              "           Hours    Scores\n",
              "Hours   1.000000  0.976191\n",
              "Scores  0.976191  1.000000"
            ],
            "text/html": [
              "\n",
              "  <div id=\"df-6355a1c9-5cfd-4945-a093-705212240a1b\">\n",
              "    <div class=\"colab-df-container\">\n",
              "      <div>\n",
              "<style scoped>\n",
              "    .dataframe tbody tr th:only-of-type {\n",
              "        vertical-align: middle;\n",
              "    }\n",
              "\n",
              "    .dataframe tbody tr th {\n",
              "        vertical-align: top;\n",
              "    }\n",
              "\n",
              "    .dataframe thead th {\n",
              "        text-align: right;\n",
              "    }\n",
              "</style>\n",
              "<table border=\"1\" class=\"dataframe\">\n",
              "  <thead>\n",
              "    <tr style=\"text-align: right;\">\n",
              "      <th></th>\n",
              "      <th>Hours</th>\n",
              "      <th>Scores</th>\n",
              "    </tr>\n",
              "  </thead>\n",
              "  <tbody>\n",
              "    <tr>\n",
              "      <th>Hours</th>\n",
              "      <td>1.000000</td>\n",
              "      <td>0.976191</td>\n",
              "    </tr>\n",
              "    <tr>\n",
              "      <th>Scores</th>\n",
              "      <td>0.976191</td>\n",
              "      <td>1.000000</td>\n",
              "    </tr>\n",
              "  </tbody>\n",
              "</table>\n",
              "</div>\n",
              "      <button class=\"colab-df-convert\" onclick=\"convertToInteractive('df-6355a1c9-5cfd-4945-a093-705212240a1b')\"\n",
              "              title=\"Convert this dataframe to an interactive table.\"\n",
              "              style=\"display:none;\">\n",
              "        \n",
              "  <svg xmlns=\"http://www.w3.org/2000/svg\" height=\"24px\"viewBox=\"0 0 24 24\"\n",
              "       width=\"24px\">\n",
              "    <path d=\"M0 0h24v24H0V0z\" fill=\"none\"/>\n",
              "    <path d=\"M18.56 5.44l.94 2.06.94-2.06 2.06-.94-2.06-.94-.94-2.06-.94 2.06-2.06.94zm-11 1L8.5 8.5l.94-2.06 2.06-.94-2.06-.94L8.5 2.5l-.94 2.06-2.06.94zm10 10l.94 2.06.94-2.06 2.06-.94-2.06-.94-.94-2.06-.94 2.06-2.06.94z\"/><path d=\"M17.41 7.96l-1.37-1.37c-.4-.4-.92-.59-1.43-.59-.52 0-1.04.2-1.43.59L10.3 9.45l-7.72 7.72c-.78.78-.78 2.05 0 2.83L4 21.41c.39.39.9.59 1.41.59.51 0 1.02-.2 1.41-.59l7.78-7.78 2.81-2.81c.8-.78.8-2.07 0-2.86zM5.41 20L4 18.59l7.72-7.72 1.47 1.35L5.41 20z\"/>\n",
              "  </svg>\n",
              "      </button>\n",
              "      \n",
              "  <style>\n",
              "    .colab-df-container {\n",
              "      display:flex;\n",
              "      flex-wrap:wrap;\n",
              "      gap: 12px;\n",
              "    }\n",
              "\n",
              "    .colab-df-convert {\n",
              "      background-color: #E8F0FE;\n",
              "      border: none;\n",
              "      border-radius: 50%;\n",
              "      cursor: pointer;\n",
              "      display: none;\n",
              "      fill: #1967D2;\n",
              "      height: 32px;\n",
              "      padding: 0 0 0 0;\n",
              "      width: 32px;\n",
              "    }\n",
              "\n",
              "    .colab-df-convert:hover {\n",
              "      background-color: #E2EBFA;\n",
              "      box-shadow: 0px 1px 2px rgba(60, 64, 67, 0.3), 0px 1px 3px 1px rgba(60, 64, 67, 0.15);\n",
              "      fill: #174EA6;\n",
              "    }\n",
              "\n",
              "    [theme=dark] .colab-df-convert {\n",
              "      background-color: #3B4455;\n",
              "      fill: #D2E3FC;\n",
              "    }\n",
              "\n",
              "    [theme=dark] .colab-df-convert:hover {\n",
              "      background-color: #434B5C;\n",
              "      box-shadow: 0px 1px 3px 1px rgba(0, 0, 0, 0.15);\n",
              "      filter: drop-shadow(0px 1px 2px rgba(0, 0, 0, 0.3));\n",
              "      fill: #FFFFFF;\n",
              "    }\n",
              "  </style>\n",
              "\n",
              "      <script>\n",
              "        const buttonEl =\n",
              "          document.querySelector('#df-6355a1c9-5cfd-4945-a093-705212240a1b button.colab-df-convert');\n",
              "        buttonEl.style.display =\n",
              "          google.colab.kernel.accessAllowed ? 'block' : 'none';\n",
              "\n",
              "        async function convertToInteractive(key) {\n",
              "          const element = document.querySelector('#df-6355a1c9-5cfd-4945-a093-705212240a1b');\n",
              "          const dataTable =\n",
              "            await google.colab.kernel.invokeFunction('convertToInteractive',\n",
              "                                                     [key], {});\n",
              "          if (!dataTable) return;\n",
              "\n",
              "          const docLinkHtml = 'Like what you see? Visit the ' +\n",
              "            '<a target=\"_blank\" href=https://colab.research.google.com/notebooks/data_table.ipynb>data table notebook</a>'\n",
              "            + ' to learn more about interactive tables.';\n",
              "          element.innerHTML = '';\n",
              "          dataTable['output_type'] = 'display_data';\n",
              "          await google.colab.output.renderOutput(dataTable, element);\n",
              "          const docLink = document.createElement('div');\n",
              "          docLink.innerHTML = docLinkHtml;\n",
              "          element.appendChild(docLink);\n",
              "        }\n",
              "      </script>\n",
              "    </div>\n",
              "  </div>\n",
              "  "
            ]
          },
          "metadata": {},
          "execution_count": 8
        }
      ]
    },
    {
      "cell_type": "markdown",
      "source": [
        "Have highly corelation score\n"
      ],
      "metadata": {
        "id": "kfxlsDAIacJ9"
      }
    },
    {
      "cell_type": "markdown",
      "source": [
        "# Linear Regression model creation"
      ],
      "metadata": {
        "id": "fAttx3QZcQQh"
      }
    },
    {
      "cell_type": "markdown",
      "source": [
        "Difine indipendent variable (x) and target variable (y)"
      ],
      "metadata": {
        "id": "sQWC8dTWcfNW"
      }
    },
    {
      "cell_type": "code",
      "source": [
        "x = data.iloc[:,:-1].values\n",
        "y = data.iloc[:,-1].values"
      ],
      "metadata": {
        "id": "usJLAUl7dNXo"
      },
      "execution_count": null,
      "outputs": []
    },
    {
      "cell_type": "markdown",
      "source": [],
      "metadata": {
        "id": "PIMV-GqPcgb3"
      }
    },
    {
      "cell_type": "markdown",
      "source": [
        "## split the data set"
      ],
      "metadata": {
        "id": "vIX5ijKccT5a"
      }
    },
    {
      "cell_type": "code",
      "source": [
        "from sklearn.model_selection import train_test_split"
      ],
      "metadata": {
        "id": "bPusv-UsaUsH"
      },
      "execution_count": null,
      "outputs": []
    },
    {
      "cell_type": "code",
      "source": [
        "print(x)"
      ],
      "metadata": {
        "colab": {
          "base_uri": "https://localhost:8080/"
        },
        "id": "0FGc-KHSgSfv",
        "outputId": "de3a9d22-6d3d-48a1-bd7a-26d038b948cf"
      },
      "execution_count": null,
      "outputs": [
        {
          "output_type": "stream",
          "name": "stdout",
          "text": [
            "[[2.5]\n",
            " [5.1]\n",
            " [3.2]\n",
            " [8.5]\n",
            " [3.5]\n",
            " [1.5]\n",
            " [9.2]\n",
            " [5.5]\n",
            " [8.3]\n",
            " [2.7]\n",
            " [7.7]\n",
            " [5.9]\n",
            " [4.5]\n",
            " [3.3]\n",
            " [1.1]\n",
            " [8.9]\n",
            " [2.5]\n",
            " [1.9]\n",
            " [6.1]\n",
            " [7.4]\n",
            " [2.7]\n",
            " [4.8]\n",
            " [3.8]\n",
            " [6.9]\n",
            " [7.8]]\n"
          ]
        }
      ]
    },
    {
      "cell_type": "code",
      "source": [
        "print(y)"
      ],
      "metadata": {
        "colab": {
          "base_uri": "https://localhost:8080/"
        },
        "id": "1O_1-y_3qHTW",
        "outputId": "301d049d-4614-45aa-892e-b23838528d4b"
      },
      "execution_count": null,
      "outputs": [
        {
          "output_type": "stream",
          "name": "stdout",
          "text": [
            "[21 47 27 75 30 20 88 60 81 25 85 62 41 42 17 95 30 24 67 69 30 54 35 76\n",
            " 86]\n"
          ]
        }
      ]
    },
    {
      "cell_type": "code",
      "source": [
        "x_train,x_test,y_train,y_test = train_test_split(x,y,test_size=0.2, random_state= 28)"
      ],
      "metadata": {
        "id": "kY1HUAl5dj_P"
      },
      "execution_count": null,
      "outputs": []
    },
    {
      "cell_type": "markdown",
      "source": [
        "## Ordinary least squares Linear Regression model"
      ],
      "metadata": {
        "id": "yl_XYYwqd5H1"
      }
    },
    {
      "cell_type": "code",
      "source": [
        "from sklearn.linear_model import LinearRegression"
      ],
      "metadata": {
        "id": "L4eNhFhye3kZ"
      },
      "execution_count": null,
      "outputs": []
    },
    {
      "cell_type": "code",
      "source": [
        "lr = LinearRegression()"
      ],
      "metadata": {
        "id": "Jygadi6SevAQ"
      },
      "execution_count": null,
      "outputs": []
    },
    {
      "cell_type": "code",
      "source": [
        "lrfit = lr.fit(x_train,y_train) "
      ],
      "metadata": {
        "id": "TD8ZgNYse2bF"
      },
      "execution_count": null,
      "outputs": []
    },
    {
      "cell_type": "code",
      "source": [
        "pred_lr = lr.predict(x_test)"
      ],
      "metadata": {
        "id": "4UinN25rfWvZ"
      },
      "execution_count": null,
      "outputs": []
    },
    {
      "cell_type": "code",
      "source": [
        "print(pred_lr)"
      ],
      "metadata": {
        "colab": {
          "base_uri": "https://localhost:8080/"
        },
        "id": "bHMeuuDY060U",
        "outputId": "2228fdcd-a862-4b83-daeb-bdf9086c53fb"
      },
      "execution_count": null,
      "outputs": [
        {
          "output_type": "stream",
          "name": "stdout",
          "text": [
            "[77.60629708 74.69272571 21.2772506  60.12486886 36.8162979 ]\n"
          ]
        }
      ]
    },
    {
      "cell_type": "code",
      "source": [
        "print(y_test)"
      ],
      "metadata": {
        "colab": {
          "base_uri": "https://localhost:8080/"
        },
        "id": "N1OAV90f1IPG",
        "outputId": "85253af8-10ba-4fb0-99b3-5da02bb3042b"
      },
      "execution_count": null,
      "outputs": [
        {
          "output_type": "stream",
          "name": "stdout",
          "text": [
            "[85 69 24 62 30]\n"
          ]
        }
      ]
    },
    {
      "cell_type": "code",
      "source": [
        "print(x_test)"
      ],
      "metadata": {
        "colab": {
          "base_uri": "https://localhost:8080/"
        },
        "id": "JkOVL85s02fR",
        "outputId": "b255cabf-cf4e-4f4f-bab3-5b54e1a2dd4f"
      },
      "execution_count": null,
      "outputs": [
        {
          "output_type": "stream",
          "name": "stdout",
          "text": [
            "[[7.7]\n",
            " [7.4]\n",
            " [1.9]\n",
            " [5.9]\n",
            " [3.5]]\n"
          ]
        }
      ]
    },
    {
      "cell_type": "markdown",
      "source": [
        "Draw plot for predicted values with test values"
      ],
      "metadata": {
        "id": "F13SiXLvkREa"
      }
    },
    {
      "cell_type": "code",
      "source": [
        "plt.scatter(x_test,y_test, color= 'Blue')\n",
        "plt.plot(x_test,pred_lr, color= \"red\")\n",
        "plt.title(\"Hour vs Score (training set)\")\n",
        "plt.xlabel(\"Hour\")\n",
        "plt.ylabel(\"score\")"
      ],
      "metadata": {
        "colab": {
          "base_uri": "https://localhost:8080/"
        },
        "id": "O61c7-jQieRy",
        "outputId": "021d9663-2f8e-45b1-ef3f-cd6ee0a781ff"
      },
      "execution_count": null,
      "outputs": [
        {
          "output_type": "execute_result",
          "data": {
            "text/plain": [
              "Text(0, 0.5, 'score')"
            ]
          },
          "metadata": {},
          "execution_count": 21
        },
        {
          "output_type": "display_data",
          "data": {
            "text/plain": [
              "<Figure size 432x288 with 1 Axes>"
            ],
            "image/png": "[encoded data removed]"
          },
          "metadata": {
            "needs_background": "light"
          }
        }
      ]
    },
    {
      "cell_type": "markdown",
      "source": [
        "### Score of the student who's study time 9.25hr/day by Ordinary least squares Linear Regression"
      ],
      "metadata": {
        "id": "NhWDDNeUakfX"
      }
    },
    {
      "cell_type": "code",
      "source": [
        "print(\"Score of the Student who's study time is 9.25hr/day : \", lr.predict([[9.25]])[0])"
      ],
      "metadata": {
        "colab": {
          "base_uri": "https://localhost:8080/"
        },
        "id": "Se2d1qpWZ59j",
        "outputId": "e8d10de6-b623-4675-9bb2-d9467147f72a"
      },
      "execution_count": null,
      "outputs": [
        {
          "output_type": "stream",
          "name": "stdout",
          "text": [
            "Score of the Student who's study time is 9.25hr/day :  92.65974915422066\n"
          ]
        }
      ]
    },
    {
      "cell_type": "markdown",
      "source": [
        "##Support vector regression"
      ],
      "metadata": {
        "id": "b0g9uPU2ybAB"
      }
    },
    {
      "cell_type": "code",
      "source": [
        "#Reshape Y value to 2d array\n",
        "ry_t = y_train.reshape(len(y_train),1)\n",
        "ry_ts = y_test.reshape(len(y_test),1)"
      ],
      "metadata": {
        "id": "zTb5hKm5zVQe"
      },
      "execution_count": null,
      "outputs": []
    },
    {
      "cell_type": "code",
      "source": [
        "print(ry_t)"
      ],
      "metadata": {
        "colab": {
          "base_uri": "https://localhost:8080/"
        },
        "id": "7K6-2OpOzsLw",
        "outputId": "cd5d4e02-b8cd-4d20-bad2-b6672395cb2f"
      },
      "execution_count": null,
      "outputs": [
        {
          "output_type": "stream",
          "name": "stdout",
          "text": [
            "[[17]\n",
            " [25]\n",
            " [88]\n",
            " [86]\n",
            " [60]\n",
            " [95]\n",
            " [27]\n",
            " [42]\n",
            " [81]\n",
            " [76]\n",
            " [30]\n",
            " [67]\n",
            " [54]\n",
            " [41]\n",
            " [75]\n",
            " [21]\n",
            " [30]\n",
            " [35]\n",
            " [20]\n",
            " [47]]\n"
          ]
        }
      ]
    },
    {
      "cell_type": "code",
      "source": [
        "# Feature scaling need for SV regression\n",
        "from sklearn.preprocessing import StandardScaler\n",
        "sc_x = StandardScaler()\n",
        "sc_y = StandardScaler()\n",
        "x_sc_t = sc_x.fit_transform(x_train)  # x train\n",
        "x_sc_ts = sc_x.transform(x_test)      # x test\n",
        "y_sc_t = sc_y.fit_transform(ry_t)     # y train\n",
        "y_sc_ts = sc_y.transform(ry_ts)       # y test"
      ],
      "metadata": {
        "id": "Dcb6mEXRkkA9"
      },
      "execution_count": null,
      "outputs": []
    },
    {
      "cell_type": "code",
      "source": [
        "# creating regressor\n",
        "from sklearn.svm import SVR\n",
        "svr = SVR(kernel=\"rbf\")"
      ],
      "metadata": {
        "id": "TxpgOOj9zAEb"
      },
      "execution_count": null,
      "outputs": []
    },
    {
      "cell_type": "code",
      "source": [
        "# Fit the SVR model\n",
        "svr.fit(x_sc_t,y_sc_t)"
      ],
      "metadata": {
        "colab": {
          "base_uri": "https://localhost:8080/"
        },
        "id": "Rs5EM2hL7Fbk",
        "outputId": "fd2120fa-9d3b-4e3e-d362-c030acc48a65"
      },
      "execution_count": null,
      "outputs": [
        {
          "output_type": "stream",
          "name": "stderr",
          "text": [
            "/usr/local/lib/python3.7/dist-packages/sklearn/utils/validation.py:993: DataConversionWarning: A column-vector y was passed when a 1d array was expected. Please change the shape of y to (n_samples, ), for example using ravel().\n",
            "  y = column_or_1d(y, warn=True)\n"
          ]
        },
        {
          "output_type": "execute_result",
          "data": {
            "text/plain": [
              "SVR()"
            ]
          },
          "metadata": {},
          "execution_count": 27
        }
      ]
    },
    {
      "cell_type": "code",
      "source": [
        "#predice the test values\n",
        "pred_svr = svr.predict(x_sc_ts)"
      ],
      "metadata": {
        "id": "E7X6JUzs0cPD"
      },
      "execution_count": null,
      "outputs": []
    },
    {
      "cell_type": "code",
      "source": [
        "pred_svr "
      ],
      "metadata": {
        "colab": {
          "base_uri": "https://localhost:8080/"
        },
        "id": "1NAFrJ_bufOd",
        "outputId": "88a221a6-c2bb-493a-e852-51be476d2c79"
      },
      "execution_count": null,
      "outputs": [
        {
          "output_type": "execute_result",
          "data": {
            "text/plain": [
              "array([ 1.17283851,  1.08289441, -1.10284464,  0.45986054, -0.65316873])"
            ]
          },
          "metadata": {},
          "execution_count": 29
        }
      ]
    },
    {
      "cell_type": "code",
      "source": [
        "#reshape for inversing the scale to original scale\n",
        "pred_svr_r= pred_svr.reshape(len(pred_svr),1)"
      ],
      "metadata": {
        "id": "-_iD7JPzr59J"
      },
      "execution_count": null,
      "outputs": []
    },
    {
      "cell_type": "code",
      "source": [
        "#Inverse the scale \n",
        "pred_svr_i = sc_y.inverse_transform(pred_svr_r)"
      ],
      "metadata": {
        "id": "Y4Vf8huJ1bIy"
      },
      "execution_count": null,
      "outputs": []
    },
    {
      "cell_type": "code",
      "source": [
        "print(pred_svr_i)"
      ],
      "metadata": {
        "colab": {
          "base_uri": "https://localhost:8080/"
        },
        "id": "65I7lEIEdBvX",
        "outputId": "a8c2fc8f-50d2-47a9-c880-1aa13da8727a"
      },
      "execution_count": null,
      "outputs": [
        {
          "output_type": "stream",
          "name": "stdout",
          "text": [
            "[[80.2652832 ]\n",
            " [78.00944731]\n",
            " [23.1901925 ]\n",
            " [62.38349569]\n",
            " [34.46825341]]\n"
          ]
        }
      ]
    },
    {
      "cell_type": "code",
      "source": [
        "# change to othe original shape\n",
        "pred_svr_o= pred_svr_i.reshape(len(pred_svr_i))"
      ],
      "metadata": {
        "id": "Vx4vdSbhtYV7"
      },
      "execution_count": null,
      "outputs": []
    },
    {
      "cell_type": "code",
      "source": [
        "print(pred_svr_o)"
      ],
      "metadata": {
        "colab": {
          "base_uri": "https://localhost:8080/"
        },
        "id": "fL9TOjLquRg2",
        "outputId": "02c3997e-516f-43c5-89b4-1992c7cc5b31"
      },
      "execution_count": null,
      "outputs": [
        {
          "output_type": "stream",
          "name": "stdout",
          "text": [
            "[80.2652832  78.00944731 23.1901925  62.38349569 34.46825341]\n"
          ]
        }
      ]
    },
    {
      "cell_type": "code",
      "source": [
        "# plot the original value and predicted value\n",
        "plt.scatter(x_test,y_test, color= 'Blue')\n",
        "plt.scatter(x_test, pred_svr_o, color= \"green\")\n",
        "#plt.plot(x_test, pred_svr_o, color= \"red\")\n",
        "plt.title(\"Hour vs Score (training set)- SVR model\")\n",
        "plt.xlabel(\"Hour\")\n",
        "plt.ylabel(\"score\")\n",
        "plt.show()"
      ],
      "metadata": {
        "colab": {
          "base_uri": "https://localhost:8080/",
          "height": 295
        },
        "id": "-QgzHg1C02QM",
        "outputId": "6c890b4d-bd55-4072-970f-adedb877cee7"
      },
      "execution_count": null,
      "outputs": [
        {
          "output_type": "display_data",
          "data": {
            "text/plain": [
              "<Figure size 432x288 with 1 Axes>"
            ],
            "image/png": "[encoded data removed]"
          },
          "metadata": {
            "needs_background": "light"
          }
        }
      ]
    },
    {
      "cell_type": "markdown",
      "source": [
        "### Score of the student who's study time 9.25hr/day By SVR model"
      ],
      "metadata": {
        "id": "IbquLKdlNK_U"
      }
    },
    {
      "cell_type": "code",
      "source": [
        "pred_svr_p = svr.predict(sc_x.transform([[9.25]]))\n",
        "pred_svr_p = sc_y.inverse_transform(pred_svr_p.reshape(-1,1))\n",
        "pred_svr_p = pred_svr_p.reshape(len(pred_svr_p))\n",
        "print(\"Score of the Student who's study time is 9.25hr/day : \", pred_svr_p[0])"
      ],
      "metadata": {
        "colab": {
          "base_uri": "https://localhost:8080/"
        },
        "id": "sIChQWoyCo2y",
        "outputId": "113df9c7-7b63-44ed-d254-9474d0c3446d"
      },
      "execution_count": null,
      "outputs": [
        {
          "output_type": "stream",
          "name": "stdout",
          "text": [
            "Score of the Student who's study time is 9.25hr/day :  84.16277702195742\n"
          ]
        }
      ]
    },
    {
      "cell_type": "markdown",
      "source": [
        "##Stochastic Gradient Descent "
      ],
      "metadata": {
        "id": "tgv7MD6e80w3"
      }
    },
    {
      "cell_type": "code",
      "source": [
        "from sklearn.linear_model import SGDRegressor\n",
        "SGD = SGDRegressor()"
      ],
      "metadata": {
        "id": "_nsSfe-787QQ"
      },
      "execution_count": null,
      "outputs": []
    },
    {
      "cell_type": "code",
      "source": [
        "SGD.fit(x_sc_t,y_sc_t)"
      ],
      "metadata": {
        "colab": {
          "base_uri": "https://localhost:8080/"
        },
        "id": "G-2Ebin39ja7",
        "outputId": "8574673e-5f7a-483e-9a23-7e4e336376cd"
      },
      "execution_count": null,
      "outputs": [
        {
          "output_type": "stream",
          "name": "stderr",
          "text": [
            "/usr/local/lib/python3.7/dist-packages/sklearn/utils/validation.py:993: DataConversionWarning: A column-vector y was passed when a 1d array was expected. Please change the shape of y to (n_samples, ), for example using ravel().\n",
            "  y = column_or_1d(y, warn=True)\n"
          ]
        },
        {
          "output_type": "execute_result",
          "data": {
            "text/plain": [
              "SGDRegressor()"
            ]
          },
          "metadata": {},
          "execution_count": 38
        }
      ]
    },
    {
      "cell_type": "code",
      "source": [
        "pred_SGD = SGD.predict(x_sc_ts)"
      ],
      "metadata": {
        "id": "72kYeJub9-7L"
      },
      "execution_count": null,
      "outputs": []
    },
    {
      "cell_type": "code",
      "source": [
        "#Inverse transform\n",
        "pred_SGD_i = sc_y.inverse_transform(pred_SGD.reshape(len(pred_SGD),1)) "
      ],
      "metadata": {
        "id": "CROssZWJ-R2x"
      },
      "execution_count": null,
      "outputs": []
    },
    {
      "cell_type": "code",
      "source": [
        "#Original Shape\n",
        "pred_SGD_o = pred_SGD_i.reshape(len(pred_SGD_i))\n",
        "print(pred_SGD_o)"
      ],
      "metadata": {
        "colab": {
          "base_uri": "https://localhost:8080/"
        },
        "id": "pWILvDGA_gY6",
        "outputId": "cd7a263b-0943-4aba-a11a-1283e7b0f566"
      },
      "execution_count": null,
      "outputs": [
        {
          "output_type": "stream",
          "name": "stdout",
          "text": [
            "[73.97913117 71.45912217 25.2589572  58.85907718 38.69900519]\n"
          ]
        }
      ]
    },
    {
      "cell_type": "code",
      "source": [
        "# plot the original value and predicted value\n",
        "plt.scatter(x_test,y_test, color= 'Blue')\n",
        "plt.scatter(x_test,pred_SGD_o, color= \"green\")\n",
        "plt.plot(x_test, pred_SGD_o, color= \"red\")\n",
        "plt.title(\"Hour vs Score (training set)- SGD model\")\n",
        "plt.xlabel(\"Hour\")\n",
        "plt.ylabel(\"score\")"
      ],
      "metadata": {
        "colab": {
          "base_uri": "https://localhost:8080/",
          "height": 313
        },
        "id": "ilJRjPpa-09o",
        "outputId": "ed0a4170-b3d6-4123-8245-b363d359dd1e"
      },
      "execution_count": null,
      "outputs": [
        {
          "output_type": "execute_result",
          "data": {
            "text/plain": [
              "Text(0, 0.5, 'score')"
            ]
          },
          "metadata": {},
          "execution_count": 42
        },
        {
          "output_type": "display_data",
          "data": {
            "text/plain": [
              "<Figure size 432x288 with 1 Axes>"
            ],
            "image/png": "[encoded data removed]"
          },
          "metadata": {
            "needs_background": "light"
          }
        }
      ]
    },
    {
      "cell_type": "markdown",
      "source": [],
      "metadata": {
        "id": "lik10ZovazVx"
      }
    },
    {
      "cell_type": "markdown",
      "source": [
        "### Score of the student who's study time 9.25hr/day By SGD model"
      ],
      "metadata": {
        "id": "Qk7XMme0bRFi"
      }
    },
    {
      "cell_type": "code",
      "source": [
        "pred_SGD_p = SGD.predict(sc_x.transform([[9.25]]))\n",
        "pred_SGD_p = sc_y.inverse_transform(pred_SGD_p.reshape(-1,1))\n",
        "pred_SGD_p = pred_SGD_p.reshape(len(pred_SGD_p))\n",
        "print(\"Score of the Student who's study time is 9.25hr/day : \", pred_SGD_p[0])"
      ],
      "metadata": {
        "colab": {
          "base_uri": "https://localhost:8080/"
        },
        "outputId": "4263c46b-aa15-4738-aca6-abdc847cbeba",
        "id": "NtcSMv14a0Kk"
      },
      "execution_count": null,
      "outputs": [
        {
          "output_type": "stream",
          "name": "stdout",
          "text": [
            "Score of the Student who's study time is 9.25hr/day :  86.99917766198095\n"
          ]
        }
      ]
    },
    {
      "cell_type": "markdown",
      "source": [
        "# Model Evaluation"
      ],
      "metadata": {
        "id": "UmpNfu1FzUOV"
      }
    },
    {
      "cell_type": "code",
      "source": [
        "from sklearn import metrics"
      ],
      "metadata": {
        "id": "Pm8ULt170zFe"
      },
      "execution_count": null,
      "outputs": []
    },
    {
      "cell_type": "code",
      "source": [
        "print(\"R-squre value of Linear model= \", metrics.r2_score(y_test,pred_lr))\n",
        "print(\"R-squre value of SVR model= \",metrics.r2_score(y_test,pred_svr_o))\n",
        "print(\"R-squre value of SGD model= \",metrics.r2_score(y_test,pred_SGD_o))\n",
        "print (\"Model with larger  R2 value is the better model\")"
      ],
      "metadata": {
        "colab": {
          "base_uri": "https://localhost:8080/"
        },
        "id": "4Uhvx-KXtFaE",
        "outputId": "f5a5154e-5d01-4395-962c-c2cb90655cde"
      },
      "execution_count": null,
      "outputs": [
        {
          "output_type": "stream",
          "name": "stdout",
          "text": [
            "R-squre value of Linear model=  0.9470046342300579\n",
            "R-squre value of SVR model=  0.9543815738599556\n",
            "R-squre value of SGD model=  0.9212656301089248\n",
            "Model with larger  R2 value is the better model\n"
          ]
        }
      ]
    },
    {
      "cell_type": "markdown",
      "source": [
        "Model with larger R2 value is the better model"
      ],
      "metadata": {
        "id": "8FskwpFzzJ2L"
      }
    },
    {
      "cell_type": "code",
      "source": [
        "# Error metrics of Linear regression model\n",
        "print('RMSE of LR: ',np.sqrt(metrics.mean_squared_error(y_test, pred_lr)))\n",
        "# Error metrics of SVR model\n",
        "print('RMSE of SVR: ',np.sqrt(metrics.mean_squared_error(y_test, pred_svr_o)))\n",
        "print('RMSE of SGD: ',np.sqrt(metrics.mean_squared_error(y_test, pred_SGD_o)))\n",
        "print (\"Model with minimum RMSE value is the better model\")"
      ],
      "metadata": {
        "id": "iGlP5sC11TrY",
        "colab": {
          "base_uri": "https://localhost:8080/"
        },
        "outputId": "1f93b090-cd44-4543-df81-2c29ec88326a"
      },
      "execution_count": null,
      "outputs": [
        {
          "output_type": "stream",
          "name": "stdout",
          "text": [
            "RMSE of LR:  5.375227754967453\n",
            "RMSE of SVR:  4.987099952031463\n",
            "RMSE of SGD:  6.551792004071418\n",
            "Model with minimum RMSE value is the better model\n"
          ]
        }
      ]
    },
    {
      "cell_type": "code",
      "source": [
        "##adjust r2 calculation\n",
        "n=len(x) # data size\n",
        "k=1 # number of feature\n",
        "r2_lr = metrics.r2_score(y_test,pred_lr)\n",
        "r2_svr = metrics.r2_score(y_test,pred_svr_o)\n",
        "r2_SGD = metrics.r2_score(y_test,pred_SGD_o)\n",
        "adj_r2_score_lr = 1 - ((1-r2_lr )*(n-1)/(n-k-1))   #adjust r2 calculation\n",
        "adj_r2_score_svr = 1 - ((1-r2_svr )*(n-1)/(n-k-1))\n",
        "adj_r2_score_SGD = 1 - ((1-r2_SGD )*(n-1)/(n-k-1))\n",
        "print(\"Adjust R2 for LR : \", adj_r2_score_lr)\n",
        "print(\"Adjust R2 for SVR : \", adj_r2_score_svr)\n",
        "print(\"Adjust R2 for SGD : \", adj_r2_score_SGD)\n",
        "print (\"Model with larger Adjust R2 value is the better model\")"
      ],
      "metadata": {
        "colab": {
          "base_uri": "https://localhost:8080/"
        },
        "id": "Coyel-P5vU_B",
        "outputId": "503bb0ff-3b00-49f8-fbd6-124eccb128fb"
      },
      "execution_count": null,
      "outputs": [
        {
          "output_type": "stream",
          "name": "stdout",
          "text": [
            "Adjust R2 for LR :  0.9447004878922343\n",
            "Adjust R2 for SVR :  0.9523981640277798\n",
            "Adjust R2 for SGD :  0.9178423966353998\n",
            "Model with larger Adjust R2 value is the better model\n"
          ]
        }
      ]
    },
    {
      "cell_type": "markdown",
      "source": [
        "## Conclusion"
      ],
      "metadata": {
        "id": "g76YgJuKYy8C"
      }
    },
    {
      "cell_type": "markdown",
      "source": [
        "\n",
        "Best Model\n",
        "*   Model with minimum RMSE value : SVR\n",
        "*   Model with larger R2 value : SVR\n",
        "*   Model with larger Adjust R2 value : SVR\n",
        "\n",
        "So best model is Support vector Regression.\n",
        "\n",
        "\n"
      ],
      "metadata": {
        "id": "M6DlNwEiY-za"
      }
    },
    {
      "cell_type": "code",
      "source": [
        "print(\"By SVR modle.\")\n",
        "print(\"Score of the Student who's study time is 9.25hr/day : \", pred_svr_p[0])"
      ],
      "metadata": {
        "colab": {
          "base_uri": "https://localhost:8080/"
        },
        "id": "kx0sFrmeZH3s",
        "outputId": "29f724a7-4d8d-49a0-9158-6d5dff52f920"
      },
      "execution_count": null,
      "outputs": [
        {
          "output_type": "stream",
          "name": "stdout",
          "text": [
            "By SVR modle.\n",
            "Score of the Student who's study time is 9.25hr/day :  84.16277702195742\n"
          ]
        }
      ]
    }
  ]
}